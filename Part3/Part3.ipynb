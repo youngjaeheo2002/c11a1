{
 "cells": [
  {
   "cell_type": "code",
   "execution_count": 5,
   "metadata": {},
   "outputs": [],
   "source": [
    "import cv2\n",
    "import numpy as np\n",
    "import os\n",
    "import matplotlib.pyplot as plt\n",
    "from sklearn.cluster import KMeans"
   ]
  },
  {
   "cell_type": "code",
   "execution_count": 35,
   "metadata": {
    "id": "57YHDUX_plLQ"
   },
   "outputs": [],
   "source": [
    "def kmeans_numpy(X, n_clusters, max_iters=100):\n",
    "\n",
    "    \"\"\"\n",
    "    Hint:\n",
    "    if implementing using numpy array:\n",
    "    the shape of the centroids are (n_clusters x 2 ), a 2D array--> each cluster is has a coordinate with makes it a 2 value\n",
    "    The shape of the labels are (for the given sample image) 512 x 512 = 262144 --> a 1D array\n",
    "    \"\"\"\n",
    "    # Initialize cluster centroids randomly\n",
    "    centroids = X[np.random.choice(len(X), n_clusters, replace=False)]\n",
    "    for _ in range(max_iters):\n",
    "        # Calculate the distance from each point to each centroid\n",
    "          ###########\n",
    "          # Fill here\n",
    "        distances = np.empty((0,len(X)))\n",
    "        for i in range(n_clusters):\n",
    "            distance_to_cluster_i = np.array([])\n",
    "            for j in range(len(X)):\n",
    "                print(centroids[i][0],centroids[i][1],centroids[i][2])\n",
    "                print(X[j][0], X[j][1], X[j][2])\n",
    "                distance_to_cluster_i[j] = ((X[j][0] - centroids[i][0])**2 + (X[j][1] - centroids[i][1])**2 + (X[j][2] - centroids[i][2])**2)\n",
    "              \n",
    "        distances = np.vstack((distances,distance_to_cluster_i))\n",
    "          ###########\n",
    "        # Assign each point to the nearest cluster\n",
    "          ###########\n",
    "          # Fill here\n",
    "        cluster_assingnment = np.zeros((len(X),1))\n",
    "        for j in range(len(X)):\n",
    "          min = 0\n",
    "          for i in range(1,n_clusters):\n",
    "              if distances[i][j] < distances[min][j]:\n",
    "                  min = i\n",
    "          cluster_assingnment[j] = min\n",
    "          ###########\n",
    "        # Create an empty array to store the new centroids\n",
    "        new_centroids = np.zeros((n_clusters, X.shape[1]))\n",
    "\n",
    "        # Loop through each cluster\n",
    "        for i in range(n_clusters):\n",
    "            # Find all data points that belong to the current cluster\n",
    "            cluster_points = np.empty((0,X.shape[1]))\n",
    "            min = 0\n",
    "            for j in range(len(X)):\n",
    "              if cluster_assingnment[j] == i:\n",
    "                  np.vstack(cluster_points,X[j])\n",
    "                \n",
    "\n",
    "            # Calculate the mean (average) of all data points in the cluster\n",
    "            cluster_mean = np.mean(cluster_points)\n",
    "\n",
    "            # Assign the cluster mean as the new centroid\n",
    "            new_centroids[i] = cluster_mean\n",
    "\n",
    "        # Check for convergence\n",
    "        if np.all(centroids == new_centroids):\n",
    "            break\n",
    "\n",
    "        centroids = new_centroids\n",
    "    labels = cluster_assingnment\n",
    "    return centroids, labels\n",
    "\n"
   ]
  },
  {
   "cell_type": "code",
   "execution_count": 14,
   "metadata": {
    "id": "hlRDVja6tFWY"
   },
   "outputs": [
    {
     "ename": "IndentationError",
     "evalue": "expected an indented block after 'for' statement on line 10 (1170729363.py, line 15)",
     "output_type": "error",
     "traceback": [
      "\u001b[0;36m  Cell \u001b[0;32mIn[14], line 15\u001b[0;36m\u001b[0m\n\u001b[0;31m    return compressed_image\u001b[0m\n\u001b[0m    ^\u001b[0m\n\u001b[0;31mIndentationError\u001b[0m\u001b[0;31m:\u001b[0m expected an indented block after 'for' statement on line 10\n"
     ]
    }
   ],
   "source": [
    "def create_compressed_image(labels, centroids, height, width, channels):\n",
    "    \"\"\"\n",
    "    Hint:\n",
    "    Assign the cluster value to the pixel of that cluster\n",
    "    \"\"\"\n",
    "    # Step 3: Create a compressed image based on cluster centroids\n",
    "    compressed_image = np.zeros((height, width, channels), dtype=np.uint8)\n",
    "\n",
    "    for i in range(height):\n",
    "        for j in range(width):\n",
    "          ###########\n",
    "          # Fill here\n",
    "          ###########\n",
    "\n",
    "    return compressed_image"
   ]
  },
  {
   "cell_type": "code",
   "execution_count": 36,
   "metadata": {
    "colab": {
     "base_uri": "https://localhost:8080/",
     "height": 333
    },
    "executionInfo": {
     "elapsed": 2650,
     "status": "error",
     "timestamp": 1697413254564,
     "user": {
      "displayName": "arash rasti",
      "userId": "02235494425480433771"
     },
     "user_tz": 240
    },
    "id": "vkQrESwytQlx",
    "outputId": "292e6933-8cdb-438b-a3e7-9738458ad0c3"
   },
   "outputs": [
    {
     "name": "stdout",
     "output_type": "stream",
     "text": [
      "201\n",
      "[226 137 125]\n"
     ]
    },
    {
     "name": "stderr",
     "output_type": "stream",
     "text": [
      "/tmp/ipykernel_4296/1734249661.py:21: RuntimeWarning: overflow encountered in scalar subtract\n",
      "  distance_to_cluster_i[j] = ((X[j][0] - centroids[i][0])**2 + (X[j][1] - centroids[i][1])**2 + (X[j][2] - centroids[i][2])**2)\n"
     ]
    },
    {
     "ename": "IndexError",
     "evalue": "index 0 is out of bounds for axis 0 with size 0",
     "output_type": "error",
     "traceback": [
      "\u001b[0;31m---------------------------------------------------------------------------\u001b[0m",
      "\u001b[0;31mIndexError\u001b[0m                                Traceback (most recent call last)",
      "\u001b[1;32m/home/youngjae/c11/StarterCode/StarterCode/Part3/Part3.ipynb Cell 4\u001b[0m line \u001b[0;36m6\n\u001b[1;32m     <a href='vscode-notebook-cell:/home/youngjae/c11/StarterCode/StarterCode/Part3/Part3.ipynb#W3sZmlsZQ%3D%3D?line=56'>57</a>\u001b[0m image_path \u001b[39m=\u001b[39m \u001b[39m\"\u001b[39m\u001b[39mtest_image.png\u001b[39m\u001b[39m\"\u001b[39m\n\u001b[1;32m     <a href='vscode-notebook-cell:/home/youngjae/c11/StarterCode/StarterCode/Part3/Part3.ipynb#W3sZmlsZQ%3D%3D?line=58'>59</a>\u001b[0m num_clusters \u001b[39m=\u001b[39m \u001b[39m10\u001b[39m  \u001b[39m# Adjust the number of clusters as needed\u001b[39;00m\n\u001b[0;32m---> <a href='vscode-notebook-cell:/home/youngjae/c11/StarterCode/StarterCode/Part3/Part3.ipynb#W3sZmlsZQ%3D%3D?line=59'>60</a>\u001b[0m kmeans_image_compression(image_path, num_clusters)\n",
      "\u001b[1;32m/home/youngjae/c11/StarterCode/StarterCode/Part3/Part3.ipynb Cell 4\u001b[0m line \u001b[0;36m1\n\u001b[1;32m     <a href='vscode-notebook-cell:/home/youngjae/c11/StarterCode/StarterCode/Part3/Part3.ipynb#W3sZmlsZQ%3D%3D?line=16'>17</a>\u001b[0m \u001b[39m# Step 2: Apply K-means clustering using numpy\u001b[39;00m\n\u001b[1;32m     <a href='vscode-notebook-cell:/home/youngjae/c11/StarterCode/StarterCode/Part3/Part3.ipynb#W3sZmlsZQ%3D%3D?line=17'>18</a>\u001b[0m pixel_values \u001b[39m=\u001b[39m original_image\u001b[39m.\u001b[39mreshape(\u001b[39m-\u001b[39m\u001b[39m1\u001b[39m, \u001b[39m3\u001b[39m)\n\u001b[0;32m---> <a href='vscode-notebook-cell:/home/youngjae/c11/StarterCode/StarterCode/Part3/Part3.ipynb#W3sZmlsZQ%3D%3D?line=18'>19</a>\u001b[0m centroids, labels \u001b[39m=\u001b[39m kmeans_numpy(pixel_values, num_clusters)\n\u001b[1;32m     <a href='vscode-notebook-cell:/home/youngjae/c11/StarterCode/StarterCode/Part3/Part3.ipynb#W3sZmlsZQ%3D%3D?line=20'>21</a>\u001b[0m \u001b[39m# Step 3: Create a compressed image based on cluster centroids\u001b[39;00m\n\u001b[1;32m     <a href='vscode-notebook-cell:/home/youngjae/c11/StarterCode/StarterCode/Part3/Part3.ipynb#W3sZmlsZQ%3D%3D?line=21'>22</a>\u001b[0m compressed_image \u001b[39m=\u001b[39m create_compressed_image(labels, centroids, height, width, channels)\n",
      "\u001b[1;32m/home/youngjae/c11/StarterCode/StarterCode/Part3/Part3.ipynb Cell 4\u001b[0m line \u001b[0;36m2\n\u001b[1;32m     <a href='vscode-notebook-cell:/home/youngjae/c11/StarterCode/StarterCode/Part3/Part3.ipynb#W3sZmlsZQ%3D%3D?line=18'>19</a>\u001b[0m         \u001b[39mprint\u001b[39m(centroids[i][\u001b[39m0\u001b[39m])\n\u001b[1;32m     <a href='vscode-notebook-cell:/home/youngjae/c11/StarterCode/StarterCode/Part3/Part3.ipynb#W3sZmlsZQ%3D%3D?line=19'>20</a>\u001b[0m         \u001b[39mprint\u001b[39m(X[j])\n\u001b[0;32m---> <a href='vscode-notebook-cell:/home/youngjae/c11/StarterCode/StarterCode/Part3/Part3.ipynb#W3sZmlsZQ%3D%3D?line=20'>21</a>\u001b[0m         distance_to_cluster_i[j] \u001b[39m=\u001b[39m ((X[j][\u001b[39m0\u001b[39m] \u001b[39m-\u001b[39m centroids[i][\u001b[39m0\u001b[39m])\u001b[39m*\u001b[39m\u001b[39m*\u001b[39m\u001b[39m2\u001b[39m \u001b[39m+\u001b[39m (X[j][\u001b[39m1\u001b[39m] \u001b[39m-\u001b[39m centroids[i][\u001b[39m1\u001b[39m])\u001b[39m*\u001b[39m\u001b[39m*\u001b[39m\u001b[39m2\u001b[39m \u001b[39m+\u001b[39m (X[j][\u001b[39m2\u001b[39m] \u001b[39m-\u001b[39m centroids[i][\u001b[39m2\u001b[39m])\u001b[39m*\u001b[39m\u001b[39m*\u001b[39m\u001b[39m2\u001b[39m)\n\u001b[1;32m     <a href='vscode-notebook-cell:/home/youngjae/c11/StarterCode/StarterCode/Part3/Part3.ipynb#W3sZmlsZQ%3D%3D?line=22'>23</a>\u001b[0m distances \u001b[39m=\u001b[39m np\u001b[39m.\u001b[39mvstack((distances,distance_to_cluster_i))\n\u001b[1;32m     <a href='vscode-notebook-cell:/home/youngjae/c11/StarterCode/StarterCode/Part3/Part3.ipynb#W3sZmlsZQ%3D%3D?line=23'>24</a>\u001b[0m   \u001b[39m###########\u001b[39;00m\n\u001b[1;32m     <a href='vscode-notebook-cell:/home/youngjae/c11/StarterCode/StarterCode/Part3/Part3.ipynb#W3sZmlsZQ%3D%3D?line=24'>25</a>\u001b[0m \u001b[39m# Assign each point to the nearest cluster\u001b[39;00m\n\u001b[1;32m     <a href='vscode-notebook-cell:/home/youngjae/c11/StarterCode/StarterCode/Part3/Part3.ipynb#W3sZmlsZQ%3D%3D?line=25'>26</a>\u001b[0m   \u001b[39m###########\u001b[39;00m\n\u001b[1;32m     <a href='vscode-notebook-cell:/home/youngjae/c11/StarterCode/StarterCode/Part3/Part3.ipynb#W3sZmlsZQ%3D%3D?line=26'>27</a>\u001b[0m   \u001b[39m# Fill here\u001b[39;00m\n",
      "\u001b[0;31mIndexError\u001b[0m: index 0 is out of bounds for axis 0 with size 0"
     ]
    }
   ],
   "source": [
    "import cv2\n",
    "import numpy as np\n",
    "import os\n",
    "import matplotlib.pyplot as plt\n",
    "from sklearn.cluster import KMeans\n",
    "\n",
    "def kmeans_image_compression(image_path, num_clusters):\n",
    "    # Step 1: Load the image\n",
    "    original_image = cv2.imread(image_path)\n",
    "\n",
    "    # Convert the image to RGB color space (if it's not already)\n",
    "    original_image = cv2.cvtColor(original_image, cv2.COLOR_BGR2RGB)\n",
    "\n",
    "    # Get the dimensions of the image\n",
    "    height, width, channels = original_image.shape\n",
    "\n",
    "    # Step 2: Apply K-means clustering using numpy\n",
    "    pixel_values = original_image.reshape(-1, 3)\n",
    "    centroids, labels = kmeans_numpy(pixel_values, num_clusters)\n",
    "\n",
    "    # Step 3: Create a compressed image based on cluster centroids\n",
    "    compressed_image = create_compressed_image(labels, centroids, height, width, channels)\n",
    "\n",
    "    # Step 4: Save the compressed image\n",
    "    compressed_image_path = \"compressed_image.png\"\n",
    "    cv2.imwrite(compressed_image_path, cv2.cvtColor(compressed_image, cv2.COLOR_RGB2BGR))\n",
    "\n",
    "    # Save the original image in the same format as the compressed one\n",
    "    original_image_path = \"original_image.png\"\n",
    "    cv2.imwrite(original_image_path, cv2.cvtColor(original_image, cv2.COLOR_RGB2BGR))\n",
    "\n",
    "    # Calculate and print the compression ratio\n",
    "    original_size = os.path.getsize(original_image_path)\n",
    "    compressed_size = os.path.getsize(compressed_image_path)\n",
    "    compression_ratio = original_size / compressed_size\n",
    "\n",
    "    print(f\"Original image size: {original_size} bytes\")\n",
    "    print(f\"Compressed image size: {compressed_size} bytes\")\n",
    "    print(f\"Compression ratio: {compression_ratio:.2f}\")\n",
    "\n",
    "    # Show the original and compressed images using matplotlib\n",
    "    plt.figure(figsize=(12, 6))\n",
    "\n",
    "    plt.subplot(1, 2, 1)\n",
    "    plt.imshow(original_image)\n",
    "    plt.title(\"Original Image\")\n",
    "    plt.axis(\"off\")\n",
    "\n",
    "    plt.subplot(1, 2, 2)\n",
    "    plt.imshow(compressed_image)\n",
    "    plt.title(\"Compressed Image\")\n",
    "    plt.axis(\"off\")\n",
    "\n",
    "    plt.show()\n",
    "\n",
    "if __name__ == \"__main__\":\n",
    "    image_path = \"test_image.png\"\n",
    "\n",
    "    num_clusters = 10  # Adjust the number of clusters as needed\n",
    "    kmeans_image_compression(image_path, num_clusters)\n"
   ]
  }
 ],
 "metadata": {
  "colab": {
   "authorship_tag": "ABX9TyOLyEbwIHJQMJnxbJmVBnrm",
   "provenance": []
  },
  "kernelspec": {
   "display_name": "Python 3 (ipykernel)",
   "language": "python",
   "name": "python3"
  },
  "language_info": {
   "codemirror_mode": {
    "name": "ipython",
    "version": 3
   },
   "file_extension": ".py",
   "mimetype": "text/x-python",
   "name": "python",
   "nbconvert_exporter": "python",
   "pygments_lexer": "ipython3",
   "version": "3.10.12"
  }
 },
 "nbformat": 4,
 "nbformat_minor": 1
}
