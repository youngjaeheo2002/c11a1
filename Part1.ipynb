{
 "cells": [
  {
   "cell_type": "code",
   "execution_count": 1,
   "metadata": {
    "id": "pK-Wu4hfz97-"
   },
   "outputs": [],
   "source": [
    "import pandas as pd\n",
    "import numpy as np \n",
    "from sklearn.model_selection import train_test_split"
   ]
  },
  {
   "cell_type": "code",
   "execution_count": 2,
   "metadata": {
    "id": "e5f5zgrD0DHJ"
   },
   "outputs": [],
   "source": [
    "#TO-DO\n",
    "\"\"\"\n",
    "Read the csv file into a DataFrame - df\n",
    "\"\"\"\n",
    "df = pd.read_csv('Admission_Predict.csv')"
   ]
  },
  {
   "cell_type": "code",
   "execution_count": 3,
   "metadata": {
    "id": "UlYEmMORp1nv"
   },
   "outputs": [
    {
     "name": "stdout",
     "output_type": "stream",
     "text": [
      "     Serial No.  GRE Score  TOEFL Score  University Rating  SOP  LOR   CGPA  \\\n",
      "0             1        337          118                  4  4.5   4.5  9.65   \n",
      "1             2        324          107                  4  4.0   4.5  8.87   \n",
      "2             3        316          104                  3  3.0   3.5  8.00   \n",
      "3             4        322          110                  3  3.5   2.5  8.67   \n",
      "4             5        314          103                  2  2.0   3.0  8.21   \n",
      "..          ...        ...          ...                ...  ...   ...   ...   \n",
      "395         396        324          110                  3  3.5   3.5  9.04   \n",
      "396         397        325          107                  3  3.0   3.5  9.11   \n",
      "397         398        330          116                  4  5.0   4.5  9.45   \n",
      "398         399        312          103                  3  3.5   4.0  8.78   \n",
      "399         400        333          117                  4  5.0   4.0  9.66   \n",
      "\n",
      "     Research  Chance of Admit   \n",
      "0           1              0.92  \n",
      "1           1              0.76  \n",
      "2           1              0.72  \n",
      "3           1              0.80  \n",
      "4           0              0.65  \n",
      "..        ...               ...  \n",
      "395         1              0.82  \n",
      "396         1              0.84  \n",
      "397         1              0.91  \n",
      "398         0              0.67  \n",
      "399         1              0.95  \n",
      "\n",
      "[400 rows x 9 columns]\n"
     ]
    }
   ],
   "source": [
    "#TO-DO\n",
    "\"\"\"\n",
    "Print the DataFrame\n",
    "\"\"\"\n",
    "print(df)\n"
   ]
  },
  {
   "cell_type": "code",
   "execution_count": 4,
   "metadata": {
    "id": "qG0T29UBp1nw"
   },
   "outputs": [
    {
     "name": "stdout",
     "output_type": "stream",
     "text": [
      "400\n",
      "Index(['Serial No.', 'GRE Score', 'TOEFL Score', 'University Rating', 'SOP',\n",
      "       'LOR ', 'CGPA', 'Research', 'Chance of Admit '],\n",
      "      dtype='object')\n"
     ]
    }
   ],
   "source": [
    "#TO-DO\n",
    "\"\"\"\n",
    "Print the length of the DataFrame.\n",
    "Print the column names of the DataFrame.\n",
    "\n",
    "\"\"\"\n",
    "\n",
    "print(len(df))\n",
    "print(df.columns)"
   ]
  },
  {
   "cell_type": "code",
   "execution_count": 4,
   "metadata": {
    "id": "eI7SRu_kp1nx"
   },
   "outputs": [
    {
     "name": "stdout",
     "output_type": "stream",
     "text": [
      "(400, 8)\n",
      "(400,)\n"
     ]
    }
   ],
   "source": [
    "#TO-DO\n",
    "\"\"\"\n",
    "Define an “X” array that would hold our independent features for regression purposes.  \n",
    "Define a \"Y\" array that would hold our target variable.\n",
    "\n",
    "Print the shape of both the arrays.\n",
    "\"\"\"\n",
    "\n",
    "X = df[['Serial No.','GRE Score','TOEFL Score','University Rating','SOP','LOR ','CGPA','Research']].to_numpy()\n",
    "Y = df['Chance of Admit '].to_numpy()\n",
    "\n",
    "print(X.shape)\n",
    "print(Y.shape)"
   ]
  },
  {
   "cell_type": "markdown",
   "metadata": {
    "id": "q5xnt6Wfp1ny"
   },
   "source": [
    "## Split the data "
   ]
  },
  {
   "cell_type": "code",
   "execution_count": 5,
   "metadata": {
    "id": "JPZ5RlYQp1ny"
   },
   "outputs": [
    {
     "name": "stdout",
     "output_type": "stream",
     "text": [
      "(280, 8) (120, 8) (280,) (120,)\n"
     ]
    }
   ],
   "source": [
    "#TO-DO\n",
    "\"\"\"\n",
    "Split the dataset into train dataset and test dataset.\n",
    "Set the random state to any number in order to maintain consistency while generating random numbers over several runs.\n",
    "\"\"\"\n",
    "X_train, X_test, Y_train, Y_test = train_test_split(X, Y, test_size=0.3, random_state=42)\n",
    "\n",
    "print(X_train.shape,X_test.shape,Y_train.shape,Y_test.shape)\n",
    "\n"
   ]
  },
  {
   "cell_type": "markdown",
   "metadata": {
    "id": "eY7EqYsZp1nz"
   },
   "source": [
    "# Linear Regression"
   ]
  },
  {
   "cell_type": "code",
   "execution_count": 8,
   "metadata": {
    "id": "hu8lbAnVp1nz"
   },
   "outputs": [],
   "source": [
    "#TO-DO\n",
    "def find_optimal_parameters(x, y):\n",
    "    \"\"\" Compute closed form solution for linear regression!\n",
    "    Optimal weight w* in linear regression is given by w* = (X^T X)^(-1) X^T Y\n",
    "    \n",
    "    Args:\n",
    "    - x (ndarray (Shape: (N, D))): A NxD matrix corresponding to the inputs.\n",
    "    - y (ndarray (Shape: (N, 1))): A N-column vector corresponding to the outputs given the inputs.\n",
    "    \n",
    "    Output:\n",
    "    - w (ndarray (Shape: (D, 1))): A D-column vector corresponding to the bias and weights of the linear model.\n",
    "    \"\"\"\n",
    "    # Pad 1's for the bias term\n",
    "    x = np.hstack((np.ones((x.shape[0], 1)), x))\n",
    "    print(x)\n",
    "\n",
    "    # Note that we could use pseudoinverse here: np.linalg.pinv\n",
    "    w = np.linalg.pinv(np.matmul((x.T),x)) @ x.T @ y\n",
    "    print(w.shape)\n",
    "    return w"
   ]
  },
  {
   "cell_type": "markdown",
   "metadata": {
    "id": "Hef0J8wPp1nz"
   },
   "source": [
    "### Train linear regression model using training data"
   ]
  },
  {
   "cell_type": "code",
   "execution_count": 28,
   "metadata": {
    "id": "b2tMQBXYp1n0"
   },
   "outputs": [],
   "source": [
    "#TO-DO\n",
    "def get_pred_Y(trained_w, X_pred):\n",
    "    \"\"\" Return predicted Y\n",
    "    Args:\n",
    "    - trained_w (ndarray (Shape: (D+1, 1))): A (D+1)x1 column vector containing linear regression weights.\n",
    "    - X_pred (ndarray (Shape: (N, D))): A NxD matrix corresponding to the prediction inputs.\n",
    "    \n",
    "    Output:\n",
    "    - pred_Y (ndarray (Shape: (N, 1))): A Nx1 column vector corresponding to the predicted outputs.\n",
    "    \"\"\"\n",
    "    pad_X   = np.hstack((np.ones((X_pred.shape[0], 1)), X_pred))\n",
    "    print(trained_w.shape,pad_X.shape)\n",
    "    pred_Y    = trained_w @ pad_X.T\n",
    "    return pred_Y"
   ]
  },
  {
   "cell_type": "code",
   "execution_count": 19,
   "metadata": {
    "id": "NvJEIbPFp1n0"
   },
   "outputs": [],
   "source": [
    "#TO-DO\n",
    "\n",
    "def get_mse(Y_truth, Y_pred):\n",
    "    \"\"\" Return Mean squared error\n",
    "    Args:\n",
    "    - Y_truth (ndarray (Shape: (N, 1))): A Nx1 column vector corresponding to the actual outputs.\n",
    "    - Y_pred (ndarray (Shape: (N, 1))): A Nx1 column vector corresponding to the predicted outputs.\n",
    "    \n",
    "    Output:\n",
    "    - MSE (ndarray (Shape: (1,))).\n",
    "    \"\"\"\n",
    "    'check if both inputs are of the same shape'\n",
    "    mse    = np.mean(((Y_pred - Y_truth) ** 2))\n",
    "    \n",
    "    return mse"
   ]
  },
  {
   "cell_type": "markdown",
   "metadata": {
    "id": "ihQlEbDzp1n1"
   },
   "source": [
    "### Get predictions on train data"
   ]
  },
  {
   "cell_type": "code",
   "execution_count": 20,
   "metadata": {
    "id": "ycC9grI0rKkn"
   },
   "outputs": [
    {
     "name": "stdout",
     "output_type": "stream",
     "text": [
      "[[  1.   158.   309.   ...   2.5    8.26   0.  ]\n",
      " [  1.   110.   304.   ...   4.     8.64   0.  ]\n",
      " [  1.    18.   319.   ...   3.     8.     1.  ]\n",
      " ...\n",
      " [  1.   271.   306.   ...   3.     8.22   1.  ]\n",
      " [  1.   349.   302.   ...   2.     7.25   0.  ]\n",
      " [  1.   103.   314.   ...   3.5    8.25   0.  ]]\n",
      "(9,)\n",
      "[-1.33317767e+00  1.91952620e-04  1.91683408e-03  4.22869819e-03\n",
      "  8.79478123e-03  1.19721188e-03  1.65128499e-02  1.00263309e-01\n",
      "  1.83417997e-02]\n"
     ]
    }
   ],
   "source": [
    "w_optimal = find_optimal_parameters(X_train, Y_train)\n",
    "print(w_optimal)"
   ]
  },
  {
   "cell_type": "code",
   "execution_count": 30,
   "metadata": {
    "id": "jntfL_s7p1n1"
   },
   "outputs": [
    {
     "name": "stdout",
     "output_type": "stream",
     "text": [
      "(9,) (280, 9)\n",
      "train error (MSE):  0.003361130155426448\n"
     ]
    }
   ],
   "source": [
    "pred_Y    = get_pred_Y(w_optimal, X_train)\n",
    "print('train error (MSE): ', get_mse(Y_train, pred_Y))"
   ]
  },
  {
   "cell_type": "markdown",
   "metadata": {
    "id": "PrQ5lClCp1n1"
   },
   "source": [
    "### Get predictions and performance on test data"
   ]
  },
  {
   "cell_type": "code",
   "execution_count": 31,
   "metadata": {
    "id": "Od4gUr8jp1n1"
   },
   "outputs": [
    {
     "name": "stdout",
     "output_type": "stream",
     "text": [
      "(9,) (120, 9)\n",
      "test error (MSE)::  0.004576720874704783\n"
     ]
    }
   ],
   "source": [
    "pred_Y    = get_pred_Y(w_optimal, X_test)\n",
    "print('test error (MSE):: ', get_mse(Y_test, pred_Y))"
   ]
  }
 ],
 "metadata": {
  "colab": {
   "collapsed_sections": [],
   "provenance": []
  },
  "kernelspec": {
   "display_name": "Python 3 (ipykernel)",
   "language": "python",
   "name": "python3"
  },
  "language_info": {
   "codemirror_mode": {
    "name": "ipython",
    "version": 3
   },
   "file_extension": ".py",
   "mimetype": "text/x-python",
   "name": "python",
   "nbconvert_exporter": "python",
   "pygments_lexer": "ipython3",
   "version": "3.10.12"
  },
  "vscode": {
   "interpreter": {
    "hash": "31f2aee4e71d21fbe5cf8b01ff0e069b9275f58929596ceb00d14d90e3e16cd6"
   }
  }
 },
 "nbformat": 4,
 "nbformat_minor": 1
}
