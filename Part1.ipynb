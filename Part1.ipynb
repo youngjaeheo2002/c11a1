{
 "cells": [
  {
   "cell_type": "markdown",
   "metadata": {},
   "source": [
    "Question 1a)\n",
    "\n",
    "1. This is a minimization problem, as we wish to minimize the sum of squared errors.\n",
    "2. Note that there are 7 features which determine the \"Chance of Admit\" value, and there are a total of 400 data points in our dataset.\n",
    "\n",
    "Model: f($x_1, x_2, x_3, x_4, x_5, x_6, x_7$) = $b + w_1x_1 + w_2x_2 + w_3x_3 + w_4x_4 + w_5x_5 + w_6x_6 + w_7x_7$, where b is the bias\\\n",
    "Optimization problem: $\\sum^{400}_{i=1} = (f(x_i1, x_i2, x_i3, x_i4, x_i5, x_i6, x_i7) - y_i)^2$\n",
    "\n",
    "However this would be easier to express in matrix form:\\\n",
    "Model: f(**x**) = $\\tilde{\\boldsymbol{w}}^T\\tilde{\\boldsymbol{x}}$, where \n",
    "$\\tilde{\\boldsymbol{w}} = \\begin{bmatrix} w_1 \\\\ w_2 \\\\ ... \\\\ w_7 \\\\ b \\end{bmatrix}$ (8x1 matrix) and $\\tilde{\\boldsymbol{x}} = \\begin{bmatrix} x_1 \\\\ x_2 \\\\ ... \\\\ x_7 \\\\ 1 \\end{bmatrix}$ (8x1 matrix)\\\n",
    "\n",
    "So Minimize E($\\tilde{\\boldsymbol{w}}$) = ||**y** $- \\tilde{\\boldsymbol{X}}\\tilde{\\boldsymbol{w}}$||\\\n",
    "where **y** = $\\begin{bmatrix} y_1 \\\\ y_2 \\\\ ... \\\\ y_{400} \\end{bmatrix}$ (400x1 matrix), $\\tilde{\\boldsymbol{X}}$ = $\\begin{bmatrix} x_1^T \\\\ x_2^T \\\\ ... \\\\ x_{400}^T \\end{bmatrix}$ (400x8 matrix - each $x_i$ is 7x1), and $\\tilde{\\boldsymbol{w}}$ = $\\begin{bmatrix} w_1 \\\\ w_2 \\\\ ... \\\\ w_7 \\\\ b \\end{bmatrix}$ (8x1 matrix).\\\n",
    "\n",
    "3. Constraints:\n",
    "- There are no constraints for this optimization problem."
   ]
  },
  {
   "cell_type": "code",
   "execution_count": 1,
   "metadata": {
    "id": "pK-Wu4hfz97-"
   },
   "outputs": [
    {
     "name": "stderr",
     "output_type": "stream",
     "text": [
      "/usr/lib/python3/dist-packages/scipy/__init__.py:146: UserWarning: A NumPy version >=1.17.3 and <1.25.0 is required for this version of SciPy (detected version 1.25.0\n",
      "  warnings.warn(f\"A NumPy version >={np_minversion} and <{np_maxversion}\"\n"
     ]
    }
   ],
   "source": [
    "import pandas as pd\n",
    "import numpy as np \n",
    "from sklearn.model_selection import train_test_split"
   ]
  },
  {
   "cell_type": "code",
   "execution_count": 2,
   "metadata": {
    "id": "e5f5zgrD0DHJ"
   },
   "outputs": [],
   "source": [
    "#TO-DO\n",
    "\"\"\"\n",
    "Read the csv file into a DataFrame - df\n",
    "\"\"\"\n",
    "df = pd.read_csv('Admission_Predict.csv')"
   ]
  },
  {
   "cell_type": "code",
   "execution_count": 3,
   "metadata": {
    "id": "UlYEmMORp1nv"
   },
   "outputs": [
    {
     "name": "stdout",
     "output_type": "stream",
     "text": [
      "     Serial No.  GRE Score  TOEFL Score  University Rating  SOP  LOR   CGPA  \\\n",
      "0             1        337          118                  4  4.5   4.5  9.65   \n",
      "1             2        324          107                  4  4.0   4.5  8.87   \n",
      "2             3        316          104                  3  3.0   3.5  8.00   \n",
      "3             4        322          110                  3  3.5   2.5  8.67   \n",
      "4             5        314          103                  2  2.0   3.0  8.21   \n",
      "..          ...        ...          ...                ...  ...   ...   ...   \n",
      "395         396        324          110                  3  3.5   3.5  9.04   \n",
      "396         397        325          107                  3  3.0   3.5  9.11   \n",
      "397         398        330          116                  4  5.0   4.5  9.45   \n",
      "398         399        312          103                  3  3.5   4.0  8.78   \n",
      "399         400        333          117                  4  5.0   4.0  9.66   \n",
      "\n",
      "     Research  Chance of Admit   \n",
      "0           1              0.92  \n",
      "1           1              0.76  \n",
      "2           1              0.72  \n",
      "3           1              0.80  \n",
      "4           0              0.65  \n",
      "..        ...               ...  \n",
      "395         1              0.82  \n",
      "396         1              0.84  \n",
      "397         1              0.91  \n",
      "398         0              0.67  \n",
      "399         1              0.95  \n",
      "\n",
      "[400 rows x 9 columns]\n"
     ]
    }
   ],
   "source": [
    "#TO-DO\n",
    "\"\"\"\n",
    "Print the DataFrame\n",
    "\"\"\"\n",
    "print(df)\n"
   ]
  },
  {
   "cell_type": "code",
   "execution_count": 4,
   "metadata": {
    "id": "qG0T29UBp1nw"
   },
   "outputs": [
    {
     "name": "stdout",
     "output_type": "stream",
     "text": [
      "400\n",
      "Index(['Serial No.', 'GRE Score', 'TOEFL Score', 'University Rating', 'SOP',\n",
      "       'LOR ', 'CGPA', 'Research', 'Chance of Admit '],\n",
      "      dtype='object')\n"
     ]
    }
   ],
   "source": [
    "#TO-DO\n",
    "\"\"\"\n",
    "Print the length of the DataFrame.\n",
    "Print the column names of the DataFrame.\n",
    "\n",
    "\"\"\"\n",
    "\n",
    "print(len(df))\n",
    "print(df.columns)"
   ]
  },
  {
   "cell_type": "code",
   "execution_count": 5,
   "metadata": {
    "id": "eI7SRu_kp1nx"
   },
   "outputs": [
    {
     "name": "stdout",
     "output_type": "stream",
     "text": [
      "(400, 7)\n",
      "(400,)\n"
     ]
    }
   ],
   "source": [
    "#TO-DO\n",
    "\"\"\"\n",
    "Define an “X” array that would hold our independent features for regression purposes.  \n",
    "Define a \"Y\" array that would hold our target variable.\n",
    "\n",
    "Print the shape of both the arrays.\n",
    "\"\"\"\n",
    "\n",
    "X = df[['GRE Score','TOEFL Score','University Rating','SOP','LOR ','CGPA','Research']].to_numpy()\n",
    "Y = df['Chance of Admit '].to_numpy()\n",
    "\n",
    "print(X.shape)\n",
    "print(Y.shape)"
   ]
  },
  {
   "cell_type": "markdown",
   "metadata": {
    "id": "q5xnt6Wfp1ny"
   },
   "source": [
    "## Split the data "
   ]
  },
  {
   "cell_type": "code",
   "execution_count": 6,
   "metadata": {
    "id": "JPZ5RlYQp1ny"
   },
   "outputs": [],
   "source": [
    "#TO-DO\n",
    "\"\"\"\n",
    "Split the dataset into train dataset and test dataset.\n",
    "Set the random state to any number in order to maintain consistency while generating random numbers over several runs.\n",
    "\"\"\"\n",
    "X_train, X_test, Y_train, Y_test = train_test_split(X, Y, test_size=0.3, random_state=42)\n",
    "\n"
   ]
  },
  {
   "cell_type": "markdown",
   "metadata": {
    "id": "eY7EqYsZp1nz"
   },
   "source": [
    "# Linear Regression"
   ]
  },
  {
   "cell_type": "code",
   "execution_count": 7,
   "metadata": {
    "id": "hu8lbAnVp1nz"
   },
   "outputs": [],
   "source": [
    "#TO-DO\n",
    "def find_optimal_parameters(x, y):\n",
    "    \"\"\" Compute closed form solution for linear regression!\n",
    "    Optimal weight w* in linear regression is given by w* = (X^T X)^(-1) X^T Y\n",
    "    \n",
    "    Args:\n",
    "    - x (ndarray (Shape: (N, D))): A NxD matrix corresponding to the inputs.\n",
    "    - y (ndarray (Shape: (N, 1))): A N-column vector corresponding to the outputs given the inputs.\n",
    "    \n",
    "    Output:\n",
    "    - w (ndarray (Shape: (D, 1))): A D-column vector corresponding to the bias and weights of the linear model.\n",
    "    \"\"\"\n",
    "    # Pad 1's for the bias term\n",
    "    x = np.hstack((np.ones((x.shape[0], 1)), x))\n",
    "\n",
    "    # Note that we could use pseudoinverse here: np.linalg.pinv\n",
    "    w = np.matmul(np.linalg.pinv(x), y)\n",
    "    return w"
   ]
  },
  {
   "cell_type": "markdown",
   "metadata": {
    "id": "Hef0J8wPp1nz"
   },
   "source": [
    "### Train linear regression model using training data"
   ]
  },
  {
   "cell_type": "code",
   "execution_count": 8,
   "metadata": {
    "id": "b2tMQBXYp1n0"
   },
   "outputs": [],
   "source": [
    "#TO-DO\n",
    "def get_pred_Y(trained_w, X_pred):\n",
    "    \"\"\" Return predicted Y\n",
    "    Args:\n",
    "    - trained_w (ndarray (Shape: (D+1, 1))): A (D+1)x1 column vector containing linear regression weights.\n",
    "    - X_pred (ndarray (Shape: (N, D))): A NxD matrix corresponding to the prediction inputs.\n",
    "    \n",
    "    Output:\n",
    "    - pred_Y (ndarray (Shape: (N, 1))): A Nx1 column vector corresponding to the predicted outputs.\n",
    "    \"\"\"\n",
    "    pad_X     = np.hstack((np.ones((X_pred.shape[0], 1)), X_pred))\n",
    "\n",
    "    pred_Y    = np.matmul(trained_w.T, pad_X.T)\n",
    "    return pred_Y"
   ]
  },
  {
   "cell_type": "code",
   "execution_count": 9,
   "metadata": {
    "id": "NvJEIbPFp1n0"
   },
   "outputs": [],
   "source": [
    "#TO-DO\n",
    "\n",
    "def get_mse(Y_truth, Y_pred):\n",
    "    \"\"\" Return Mean squared error\n",
    "    Args:\n",
    "    - Y_truth (ndarray (Shape: (N, 1))): A Nx1 column vector corresponding to the actual outputs.\n",
    "    - Y_pred (ndarray (Shape: (N, 1))): A Nx1 column vector corresponding to the predicted outputs.\n",
    "    \n",
    "    Output:\n",
    "    - MSE (ndarray (Shape: (1,))).\n",
    "    \"\"\"\n",
    "    'check if both inputs are of the same shape'\n",
    "    mse    = np.mean(((Y_pred - Y_truth) ** 2))\n",
    "    \n",
    "    return mse"
   ]
  },
  {
   "cell_type": "markdown",
   "metadata": {
    "id": "ihQlEbDzp1n1"
   },
   "source": [
    "### Get predictions on train data"
   ]
  },
  {
   "cell_type": "code",
   "execution_count": 10,
   "metadata": {
    "id": "ycC9grI0rKkn"
   },
   "outputs": [],
   "source": [
    "w_optimal = find_optimal_parameters(X_train, Y_train)"
   ]
  },
  {
   "cell_type": "code",
   "execution_count": 11,
   "metadata": {
    "id": "jntfL_s7p1n1"
   },
   "outputs": [
    {
     "name": "stdout",
     "output_type": "stream",
     "text": [
      "train error (MSE):  0.0037831328356081905\n"
     ]
    }
   ],
   "source": [
    "pred_Y    = get_pred_Y(w_optimal, X_train)\n",
    "print('train error (MSE): ', get_mse(Y_train, pred_Y))"
   ]
  },
  {
   "cell_type": "markdown",
   "metadata": {
    "id": "PrQ5lClCp1n1"
   },
   "source": [
    "### Get predictions and performance on test data"
   ]
  },
  {
   "cell_type": "code",
   "execution_count": 12,
   "metadata": {
    "id": "Od4gUr8jp1n1"
   },
   "outputs": [
    {
     "name": "stdout",
     "output_type": "stream",
     "text": [
      "test error (MSE)::  0.004652821846481335\n"
     ]
    }
   ],
   "source": [
    "pred_Y    = get_pred_Y(w_optimal, X_test)\n",
    "print('test error (MSE):: ', get_mse(Y_test, pred_Y))"
   ]
  }
 ],
 "metadata": {
  "colab": {
   "collapsed_sections": [],
   "provenance": []
  },
  "kernelspec": {
   "display_name": "Python 3 (ipykernel)",
   "language": "python",
   "name": "python3"
  },
  "language_info": {
   "codemirror_mode": {
    "name": "ipython",
    "version": 3
   },
   "file_extension": ".py",
   "mimetype": "text/x-python",
   "name": "python",
   "nbconvert_exporter": "python",
   "pygments_lexer": "ipython3",
   "version": "3.10.12"
  },
  "vscode": {
   "interpreter": {
    "hash": "31f2aee4e71d21fbe5cf8b01ff0e069b9275f58929596ceb00d14d90e3e16cd6"
   }
  }
 },
 "nbformat": 4,
 "nbformat_minor": 1
}
